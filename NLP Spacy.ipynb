{
  "nbformat": 4,
  "nbformat_minor": 0,
  "metadata": {
    "colab": {
      "name": "Copy of Projeto_MP.ipynb",
      "private_outputs": true,
      "provenance": []
    },
    "kernelspec": {
      "name": "python3",
      "display_name": "Python 3"
    },
    "language_info": {
      "name": "python"
    }
  },
  "cells": [
    {
      "cell_type": "markdown",
      "metadata": {
        "id": "RypfCFUhPeY-"
      },
      "source": [
        "## Extraindo o texto dos PDF's"
      ]
    },
    {
      "cell_type": "code",
      "metadata": {
        "id": "OIkKFZW-7gSS"
      },
      "source": [
        "!pip install pdfplumber -q\n",
        "!pip install PyPDF2"
      ],
      "execution_count": null,
      "outputs": []
    },
    {
      "cell_type": "code",
      "metadata": {
        "id": "bnD8KiTZK7-H"
      },
      "source": [
        "import pdfplumber\n",
        "from PyPDF2 import PdfFileReader"
      ],
      "execution_count": null,
      "outputs": []
    },
    {
      "cell_type": "code",
      "metadata": {
        "id": "hjHUB9b87ypz"
      },
      "source": [
        "#arquivo= '/content/drive/MyDrive/Data Science/Projeto Integrado/Projeto_MP/Processos MP/works/70002066620208220013 - Inteiro Teor.pdf'#'/content/00007744120198220013 - Inteiro Teor.pdf' \n",
        "arquivo = '/content/drive/MyDrive/Data Science/Projeto Integrado/Projeto_MP/newProcessos/70003804120218220013 - Inteiro Teor.pdf'\n",
        "def ler_PDF(invoice_pdf):\n",
        "  reader = PdfFileReader(invoice_pdf)\n",
        "  print(f'{reader.numPages} Páginas')\n",
        "  lista = []\n",
        "  with pdfplumber.open(invoice_pdf) as pdf:\n",
        "    for page_num in range(reader.numPages):\n",
        "      page = pdf.pages[page_num]\n",
        "      \n",
        "      try:\n",
        "        \n",
        "        text = page.extract_text()\n",
        "      except:\n",
        "        pass\n",
        "      else:\n",
        "        lista.append(text)\n",
        "\n",
        "  return lista\n"
      ],
      "execution_count": null,
      "outputs": []
    },
    {
      "cell_type": "code",
      "metadata": {
        "id": "VPe8dl9ge1Pi"
      },
      "source": [
        "paginas = ler_PDF(arquivo)"
      ],
      "execution_count": null,
      "outputs": []
    },
    {
      "cell_type": "code",
      "metadata": {
        "id": "6bNjPrMLjjcU"
      },
      "source": [
        "def juntar_paginas(paginas):\n",
        "  k = ''\n",
        "  for i in paginas:\n",
        "    k = k+i\n",
        "  return k"
      ],
      "execution_count": null,
      "outputs": []
    },
    {
      "cell_type": "code",
      "metadata": {
        "id": "2K4TJulDknBl"
      },
      "source": [
        "pdf_completo = juntar_paginas(paginas)"
      ],
      "execution_count": null,
      "outputs": []
    },
    {
      "cell_type": "markdown",
      "metadata": {
        "id": "rCQroPfoeO6V"
      },
      "source": [
        "# ENTIDADES"
      ]
    },
    {
      "cell_type": "markdown",
      "metadata": {
        "id": "eb5XFbDzeQrO"
      },
      "source": [
        "- Nome\n",
        "- Crime\n",
        "- Citação\n",
        "- Resposta à Acusação\n",
        "- Ata de Audiência\n",
        "- Data\n",
        "- ID\n",
        "- Decisão"
      ]
    },
    {
      "cell_type": "markdown",
      "metadata": {
        "id": "Qa0pahsBfziU"
      },
      "source": [
        "###INSTALL AND IMPORTS"
      ]
    },
    {
      "cell_type": "code",
      "metadata": {
        "id": "2nDOQxHRf429"
      },
      "source": [
        "!python -m spacy download pt"
      ],
      "execution_count": null,
      "outputs": []
    },
    {
      "cell_type": "code",
      "metadata": {
        "id": "1E-UpsSPeRgV"
      },
      "source": [
        "import spacy"
      ],
      "execution_count": null,
      "outputs": []
    },
    {
      "cell_type": "code",
      "metadata": {
        "id": "PCqeiCEaegpk"
      },
      "source": [
        "nlp = spacy.load('pt')"
      ],
      "execution_count": null,
      "outputs": []
    },
    {
      "cell_type": "markdown",
      "metadata": {
        "id": "j-Ev966-jNBl"
      },
      "source": [
        "###NOME"
      ]
    },
    {
      "cell_type": "code",
      "metadata": {
        "id": "ege4CIw8jOzO"
      },
      "source": [
        "def nome_das_partes(paginas, variavel= 'brasileiro'):\n",
        "  n_pag= 0\n",
        "  frase = ''\n",
        "  for pagina in paginas:\n",
        "    n_pag = n_pag +1 \n",
        "    doc = nlp(pagina)\n",
        "    for sent in doc.sents:\n",
        "      for token in sent:\n",
        "        if token.text.lower() == variavel or token.text.lower() == 'brasileira':\n",
        "          if doc[token.i-2].pos_ == 'PROPN':\n",
        "            texto = f'\\n ---> PÁGINA {n_pag} \\n' + sent.text \n",
        "            frase = frase + texto + ' '\n",
        "  return frase"
      ],
      "execution_count": null,
      "outputs": []
    },
    {
      "cell_type": "markdown",
      "metadata": {
        "id": "0dHlIdVziyNl"
      },
      "source": [
        "###CRIME"
      ]
    },
    {
      "cell_type": "code",
      "metadata": {
        "id": "a7GEXigAi1V_"
      },
      "source": [
        "def crime(paginas, variavel= 'incurso'):\n",
        "  n_pag= 0\n",
        "  frase = ''\n",
        "  for pagina in paginas:\n",
        "    n_pag = n_pag +1 \n",
        "    doc = nlp(pagina)\n",
        "    for sent in doc.sents:\n",
        "      for token in sent:\n",
        "        if token.text == variavel:\n",
        "          texto = sent.text + f' ---> PÁGINA {n_pag} \\n'\n",
        "          frase = frase + texto + ' '\n",
        "  return frase"
      ],
      "execution_count": null,
      "outputs": []
    },
    {
      "cell_type": "markdown",
      "metadata": {
        "id": "ua0TC5XdfvoV"
      },
      "source": [
        "###CITAÇÃO"
      ]
    },
    {
      "cell_type": "code",
      "metadata": {
        "id": "UvMG9rahfwsk"
      },
      "source": [
        "def citação(paginas, variavel= 'cite'):\n",
        "  n_pag= 0\n",
        "  frase = ''\n",
        "  for pagina in paginas:\n",
        "    n_pag = n_pag +1 \n",
        "    doc = nlp(pagina)\n",
        "    for sent in doc.sents:\n",
        "      for token in sent:\n",
        "        if token.text.lower()  == variavel:\n",
        "          texto = sent.text + f' ---> PÁGINA {n_pag} \\n'\n",
        "          frase = frase + texto + ' '\n",
        "  return frase"
      ],
      "execution_count": null,
      "outputs": []
    },
    {
      "cell_type": "markdown",
      "metadata": {
        "id": "UyaRCWpEefI0"
      },
      "source": [
        "###ATA DE AUDIÊNCIA\n"
      ]
    },
    {
      "cell_type": "code",
      "metadata": {
        "id": "qssuxklzfaoU"
      },
      "source": [
        "def ata(paginas):\n",
        "  n_pag= 0\n",
        "  frase = ''\n",
        "  for pagina in paginas:\n",
        "    n_pag = n_pag +1 \n",
        "    if n_pag > 10:\n",
        "      doc = nlp(pagina)\n",
        "      for token in doc:\n",
        "      \n",
        "        if token.text.lower()  == 'ata':\n",
        "          if doc[token.i+2].text.lower() == 'audiência':\n",
        "            texto = '--'*30+ f'  PÁGINA {n_pag} \\n' + pagina \n",
        "            frase = frase + texto + ' '\n",
        "  return frase"
      ],
      "execution_count": null,
      "outputs": []
    },
    {
      "cell_type": "markdown",
      "metadata": {
        "id": "BRnNtqdBjkJt"
      },
      "source": [
        "###RESPOSTA À ACUSAÇÃO"
      ]
    },
    {
      "cell_type": "code",
      "metadata": {
        "id": "9r4PLLNIjmQ2"
      },
      "source": [
        "#TODO: TESTAR!!!!!!!!!!!!!!!!!!!!!!!!!!!!!!!!!!!!!!!!!!!!!!!!!!!!!!!!!!!!!!!!!!!!!!!!!!!!!!!!!!!!!!!!!!!!!!!!!!!!!!!!!!!!!!!!!!!!!!!!!!!!!!!!!!!!!!!!!!!!!!!\n",
        "\n",
        "def resposta(paginas):\n",
        "  n_pag= 0\n",
        "  frase = ''\n",
        "  for pagina in paginas:\n",
        "    n_pag = n_pag +1 \n",
        "    if n_pag > 10:\n",
        "      doc = nlp(pagina)\n",
        "      for token in doc:\n",
        "      \n",
        "        if token.text.lower()  == 'resposta':\n",
        "          if doc[token.i+2].text.lower() == 'acusação':\n",
        "            texto = '--'*30+ f'  PÁGINA {n_pag} \\n' + pagina \n",
        "            frase = frase + texto + ' '\n",
        "  return frase"
      ],
      "execution_count": null,
      "outputs": []
    },
    {
      "cell_type": "markdown",
      "metadata": {
        "id": "98Ow1771feh1"
      },
      "source": [
        "###DATA"
      ]
    },
    {
      "cell_type": "code",
      "metadata": {
        "id": "hmkaj5pdfgjd"
      },
      "source": [
        ""
      ],
      "execution_count": null,
      "outputs": []
    },
    {
      "cell_type": "markdown",
      "metadata": {
        "id": "XCWM6GMAfxU9"
      },
      "source": [
        "###DECISÃO"
      ]
    },
    {
      "cell_type": "code",
      "metadata": {
        "id": "MliKkWdxif6D"
      },
      "source": [
        "def decisão(paginas):\n",
        "  n_pag= 0\n",
        "  frase = ''\n",
        "  for pagina in paginas:\n",
        "    n_pag = n_pag +1 \n",
        "    if n_pag > 10:\n",
        "      doc = nlp(pagina)\n",
        "      for token in doc:\n",
        "      \n",
        "        if token.text.lower()  == 'sentença':\n",
        "          if doc[token.i+2].text.lower() == 'declaro':\n",
        "            texto = '--'*30+ f'  PÁGINA {n_pag} \\n' + pagina \n",
        "            frase = frase + texto + ' '\n",
        "  return frase"
      ],
      "execution_count": null,
      "outputs": []
    }
  ]
}